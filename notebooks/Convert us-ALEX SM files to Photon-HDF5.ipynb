{
 "cells": [
  {
   "cell_type": "markdown",
   "metadata": {},
   "source": [
    "# Convert µs-ALEX SM files to Photon-HDF5\n",
    "\n",
    "<p class=\"lead\">This <a href=\"https://jupyter.org/\">Jupyter notebook</a>\n",
    "will guide you through the conversion of a µs-ALEX data file from <b>SM</b> (WeissLab)\n",
    "to <a href=\"http://photon-hdf5.org\">Photon-HDF5</a> format. For more info on how to edit\n",
    "a jupyter notebook refer to <a href=\"http://nbviewer.jupyter.org/github/jupyter/notebook/blob/master/docs/source/examples/Notebook/Notebook%20Basics.ipynb#Overview-of-the-Notebook-UI\">this example</a>.</p>\n",
    "\n",
    "<i>Please send feedback and report any problem to the \n",
    "[Photon-HDF5 google group](https://groups.google.com/forum/#!forum/photon-hdf5).</i>\n",
    "\n",
    "# 1. How to run it?\n",
    "\n",
    "The notebook is composed by \"text cells\", such as this paragraph, and \"code cells\"\n",
    "containing the code to be executed (and identified by an `In [ ]` prompt). \n",
    "To execute a code cell, select it and press **SHIFT+ENTER**. \n",
    "To modify an cell, click on it to enter \"edit mode\" (indicated by a green frame), \n",
    "then type.\n",
    "\n",
    "You can run this notebook directly online (for demo purposes), or you can \n",
    "run it on your on desktop. For a local installation please refer to:\n",
    "\n",
    "- [Jupyter Notebook Quick-Start Guide](http://jupyter-notebook-beginner-guide.readthedocs.org) \n",
    "\n",
    "<br>\n",
    "<div class=\"alert alert-info\">\n",
    "Please run each each code cell using <b>SHIFT+ENTER</b>.\n",
    "</div>\n",
    "\n",
    "# 2. Prepare the data file\n",
    "\n",
    "## 2.1 Upload the data file\n",
    "\n",
    "<br>\n",
    "<div class=\"alert alert-info\">\n",
    "<b>Note:</b> if you are running the notebook locally skip to section <b>2.2</b>.\n",
    "</div>\n",
    "\n",
    "Before starting, you have to upload a data file to be converted to Photon-HDF5.\n",
    "You can use one of our example data files available\n",
    "[on figshare](http://dx.doi.org/10.6084/m9.figshare.1455963). \n",
    "\n",
    "To upload a file (up to 35 MB) switch to the \"Home\" tab in your browser, \n",
    "click the upload button and select the data file. \n",
    "Wait until the upload completes.\n",
    "For larger files (like some of our example files) please use the \n",
    "[Upload notebook](Upload data files.ipynb) instead.\n",
    "\n",
    "Once the file is uploaded, come back here and follow the instructions below.\n",
    "\n",
    "## 2.2 Select the file\n",
    "\n",
    "Specify the input data file in the following cell:"
   ]
  },
  {
   "cell_type": "code",
   "execution_count": 1,
   "metadata": {},
   "outputs": [],
   "source": [
    "filename = 'data/0023uLRpitc_NTP_20dT_0.5GndCl.sm'"
   ]
  },
  {
   "cell_type": "markdown",
   "metadata": {},
   "source": [
    "The next cell will check if the `filename` location is correct:"
   ]
  },
  {
   "cell_type": "code",
   "execution_count": 2,
   "metadata": {},
   "outputs": [
    {
     "name": "stdout",
     "output_type": "stream",
     "text": [
      "Data file found, you can proceed.\n"
     ]
    }
   ],
   "source": [
    "import os\n",
    "try: \n",
    "    with open(filename): pass\n",
    "    print('Data file found, you can proceed.')\n",
    "except IOError:\n",
    "    print('ATTENTION: Data file not found, please check the filename.\\n'\n",
    "          '           (current value \"%s\")' % filename)"
   ]
  },
  {
   "cell_type": "markdown",
   "metadata": {},
   "source": [
    "In case of file not found, please double check the file name\n",
    "and that the file has been uploaded."
   ]
  },
  {
   "cell_type": "markdown",
   "metadata": {},
   "source": [
    "# 3. Load the data\n",
    "\n",
    "We start by loading the software:"
   ]
  },
  {
   "cell_type": "code",
   "execution_count": 3,
   "metadata": {},
   "outputs": [
    {
     "name": "stdout",
     "output_type": "stream",
     "text": [
      "phconvert version: 0.9+43.g3a86e58.dirty\n"
     ]
    }
   ],
   "source": [
    "%matplotlib inline\n",
    "import numpy as np\n",
    "import sys\n",
    "sys.path.append(\"../../phconvert\")\n",
    "import phconvert as phc\n",
    "print('phconvert version: ' + phc.__version__)"
   ]
  },
  {
   "cell_type": "markdown",
   "metadata": {},
   "source": [
    "Then we load the input file:"
   ]
  },
  {
   "cell_type": "code",
   "execution_count": 4,
   "metadata": {},
   "outputs": [
    {
     "name": "stdout",
     "output_type": "stream",
     "text": [
      " - Loading 'data/0023uLRpitc_NTP_20dT_0.5GndCl.sm' ... \n",
      " [DONE]\n",
      "\n"
     ]
    }
   ],
   "source": [
    "d = phc.loader.usalex_sm(filename,\n",
    "                         donor = 0,\n",
    "                         acceptor = 1,\n",
    "                         alex_period = 4000,\n",
    "                         alex_offset = 700,\n",
    "                         alex_period_donor = (2180, 3900),\n",
    "                         alex_period_acceptor = (200, 1800),\n",
    "                         excitation_wavelengths = (532e-9, 635e-9),\n",
    "                         detection_wavelengths = (580e-9, 680e-9))"
   ]
  },
  {
   "cell_type": "markdown",
   "metadata": {},
   "source": [
    "And we plot the alternation histogram:"
   ]
  },
  {
   "cell_type": "code",
   "execution_count": 5,
   "metadata": {},
   "outputs": [
    {
     "data": {
      "image/png": "[encoded data removed]",
      "text/plain": [
       "<Figure size 432x288 with 1 Axes>"
      ]
     },
     "metadata": {
      "needs_background": "light"
     },
     "output_type": "display_data"
    }
   ],
   "source": [
    "phc.plotter.alternation_hist(d)"
   ]
  },
  {
   "cell_type": "markdown",
   "metadata": {},
   "source": [
    "The previous plot is the alternation histogram for the donor and acceptor channel separately.\n",
    "The shaded areas marks the donor (*green*) and acceptor (*red*) excitation periods.\n",
    "\n",
    "If the histogram looks wrong in some aspects (no photons, wrong detectors\n",
    "assignment, wrong period selection) please go back to the previous cell \n",
    "which loads the file and change the parameters until the histogram looks correct.\n",
    "\n",
    "You may also find useful to see how many different detectors are present\n",
    "and their number of photons. This information is shown in the next cell:"
   ]
  },
  {
   "cell_type": "code",
   "execution_count": 6,
   "metadata": {
    "scrolled": true
   },
   "outputs": [
    {
     "name": "stdout",
     "output_type": "stream",
     "text": [
      "Detector    Counts\n",
      "--------   --------\n",
      "       0     839592\n",
      "       1    1844370\n"
     ]
    }
   ],
   "source": [
    "detectors = d['photon_data']['detectors']\n",
    "\n",
    "print(\"Detector    Counts\")\n",
    "print(\"--------   --------\")\n",
    "for det, count in zip(*np.unique(detectors, return_counts=True)):\n",
    "    print(\"%8d   %8d\" % (det, count))"
   ]
  },
  {
   "cell_type": "markdown",
   "metadata": {},
   "source": [
    "# 4. Metadata\n",
    "\n",
    "In the next few cells, we specify some metadata that will be stored \n",
    "in the Photon-HDF5 file. Please modify these fields to reflect\n",
    "the content of the data file:"
   ]
  },
  {
   "cell_type": "code",
   "execution_count": 7,
   "metadata": {},
   "outputs": [],
   "source": [
    "author = 'John Doe'\n",
    "author_affiliation = 'Research Institution'\n",
    "description = 'us-ALEX measurement of a doubly-labeled ssDNA sample.'\n",
    "sample_name = '20dt ssDNA oligo doubly labeled with Cy3B and Atto647N'\n",
    "dye_names = 'Cy3B, ATTO647N'\n",
    "buffer_name = 'TE50 + 0.5M GndCl'"
   ]
  },
  {
   "cell_type": "markdown",
   "metadata": {},
   "source": [
    "# 5. Conversion\n",
    "<br>\n",
    "<div class=\"alert alert-success\">\n",
    "<p>Once you finished editing the the previous sections you can proceed with\n",
    "the actual conversion. To do that, click on the menu <i>Cells -> Run All Below</i>.\n",
    "\n",
    "<p>After the execution go to <b>Section 6</b> to download the Photon-HDF5 file.\n",
    "</div>\n",
    "\n",
    "The cells below contain the code to convert the input file to Photon-HDF5."
   ]
  },
  {
   "cell_type": "markdown",
   "metadata": {},
   "source": [
    "## 5.1 Add metadata"
   ]
  },
  {
   "cell_type": "code",
   "execution_count": 8,
   "metadata": {},
   "outputs": [],
   "source": [
    "d['description'] = description\n",
    "\n",
    "d['sample'] = dict(\n",
    "    sample_name=sample_name,\n",
    "    dye_names=dye_names,\n",
    "    buffer_name=buffer_name,\n",
    "    num_dyes = len(dye_names.split(',')))\n",
    "\n",
    "d['identity'] = dict(\n",
    "    author=author,\n",
    "    author_affiliation=author_affiliation)"
   ]
  },
  {
   "cell_type": "markdown",
   "metadata": {},
   "source": [
    "## 5.2 Save to Photon-HDF5\n",
    "\n",
    "This command saves the new file to disk. If the input data does not follows the Photon-HDF5 specification it returns an error (`Invalid_PhotonHDF5`) printing what violates the specs."
   ]
  },
  {
   "cell_type": "code",
   "execution_count": 9,
   "metadata": {},
   "outputs": [
    {
     "name": "stdout",
     "output_type": "stream",
     "text": [
      "Saving: data/0023uLRpitc_NTP_20dT_0.5GndCl.hdf5\n"
     ]
    }
   ],
   "source": [
    "phc.hdf5.save_photon_hdf5(d, overwrite=True)"
   ]
  },
  {
   "cell_type": "markdown",
   "metadata": {},
   "source": [
    "You can check it's content by using an HDF5 viewer such as [HDFView](https://www.hdfgroup.org/products/java/hdfview/).\n",
    "\n",
    "# 6. Load Photon-HDF5\n",
    "\n",
    "We can load the newly created Photon-HDF5 file to check its content:"
   ]
  },
  {
   "cell_type": "code",
   "execution_count": 10,
   "metadata": {},
   "outputs": [],
   "source": [
    "from pprint import pprint"
   ]
  },
  {
   "cell_type": "code",
   "execution_count": 11,
   "metadata": {},
   "outputs": [],
   "source": [
    "filename = d['_data_file'].filename"
   ]
  },
  {
   "cell_type": "code",
   "execution_count": 12,
   "metadata": {},
   "outputs": [],
   "source": [
    "h5data = phc.hdf5.load_photon_hdf5(filename)"
   ]
  },
  {
   "cell_type": "code",
   "execution_count": 13,
   "metadata": {},
   "outputs": [
    {
     "data": {
      "text/plain": [
       "{'author': 'John Doe',\n",
       " 'author_affiliation': 'Research Institution',\n",
       " 'creation_time': '2020-05-07 20:52:04',\n",
       " 'filename': '0023uLRpitc_NTP_20dT_0.5GndCl.hdf5',\n",
       " 'filename_full': '/Users/yi10/Desktop/Research/Projects/4cALEX/phconvert/notebooks/data/0023uLRpitc_NTP_20dT_0.5GndCl.hdf5',\n",
       " 'format_name': 'Photon-HDF5',\n",
       " 'format_url': 'http://photon-hdf5.org/',\n",
       " 'format_version': '0.5rc1',\n",
       " 'software': 'phconvert',\n",
       " 'software_version': '0.9+43.g3a86e58.dirty'}"
      ]
     },
     "execution_count": 13,
     "metadata": {},
     "output_type": "execute_result"
    }
   ],
   "source": [
    "phc.hdf5.dict_from_group(h5data.identity)"
   ]
  },
  {
   "cell_type": "code",
   "execution_count": 14,
   "metadata": {},
   "outputs": [
    {
     "data": {
      "text/plain": [
       "{'detection_wavelengths': array([5.8e-07, 6.8e-07]),\n",
       " 'detectors': {'counts': array([ 839592, 1844370]),\n",
       "  'id': array([0, 1], dtype=uint32),\n",
       "  'id_hardware': array([0, 1], dtype=uint32)},\n",
       " 'excitation_alternated': array([1, 1], dtype=uint8),\n",
       " 'excitation_cw': array([1, 1], dtype=uint8),\n",
       " 'excitation_wavelengths': array([5.32e-07, 6.35e-07]),\n",
       " 'lifetime': 0,\n",
       " 'modulated_excitation': 1,\n",
       " 'num_pixels': 2,\n",
       " 'num_polarization_ch': 1,\n",
       " 'num_spectral_ch': 2,\n",
       " 'num_split_ch': 1,\n",
       " 'num_spots': 1}"
      ]
     },
     "execution_count": 14,
     "metadata": {},
     "output_type": "execute_result"
    }
   ],
   "source": [
    "phc.hdf5.dict_from_group(h5data.setup)"
   ]
  },
  {
   "cell_type": "code",
   "execution_count": 15,
   "metadata": {},
   "outputs": [
    {
     "name": "stdout",
     "output_type": "stream",
     "text": [
      "{'detectors': array([0, 1, 1, ..., 1, 1, 0], dtype=uint32),\n",
      " 'measurement_specs': {'alex_excitation_period1': [2180, 3900],\n",
      "                       'alex_excitation_period2': [200, 1800],\n",
      "                       'alex_offset': 700,\n",
      "                       'alex_period': 4000,\n",
      "                       'detectors_specs': {'spectral_ch1': array([0], dtype=uint32),\n",
      "                                           'spectral_ch2': array([1], dtype=uint32)},\n",
      "                       'measurement_type': 'smFRET-usALEX'},\n",
      " 'timestamps': array([     146847,      188045,      294124, ..., 47999863658,\n",
      "       47999877783, 47999955353]),\n",
      " 'timestamps_specs': {'timestamps_unit': 1.25e-08}}\n"
     ]
    }
   ],
   "source": [
    "pprint(phc.hdf5.dict_from_group(h5data.photon_data))"
   ]
  },
  {
   "cell_type": "code",
   "execution_count": 16,
   "metadata": {},
   "outputs": [],
   "source": [
    "h5data._v_file.close()"
   ]
  }
 ],
 "metadata": {
  "anaconda-cloud": {},
  "kernelspec": {
   "display_name": "Python 3",
   "language": "python",
   "name": "python3"
  },
  "language_info": {
   "codemirror_mode": {
    "name": "ipython",
    "version": 3
   },
   "file_extension": ".py",
   "mimetype": "text/x-python",
   "name": "python",
   "nbconvert_exporter": "python",
   "pygments_lexer": "ipython3",
   "version": "3.7.3"
  }
 },
 "nbformat": 4,
 "nbformat_minor": 1
}
